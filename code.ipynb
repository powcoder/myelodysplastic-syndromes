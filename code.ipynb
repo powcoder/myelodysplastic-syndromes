{
 "cells": [
  {
   "cell_type": "markdown",
   "id": "aab31144",
   "metadata": {},
   "source": [
    "## [Myelodysplastic syndromes](https://pubmed.ncbi.nlm.nih.gov/27543316/)\n",
    "For this problem set, you are tasked with analyzing exome sequencing data from 100 MDS patients.\n",
    "\n",
    "The data are provided in *MDSExome.xlsx*\n",
    "\n",
    "**Expectation**:\n",
    "1. Carefully follow the description of the analysis to be performed. If you believe there are more than one ways to solve the problem, please pick one that is closest to the instruction.\n",
    "2. Your answer will be graded based on correctness first, and adherence to the instruction second.\n",
    "3. To give you some challenges, some parts of the code will be left blank. You are also not allowed to change any of the code provided.\n",
    "4. You may send me a message + screen shot on Teams if you run into errors you cannot resolve. Each of you can do this **3 times** per programming problem set. So use your quota wisely.\n",
    "5. For questions about concepts, please add you answer in the same comment cell as the question itself. For example,\n",
    "\n",
    "## Example Q0: Explain the symptoms of MDS\n",
    "Answer: blah blah\n",
    "\n",
    "6. For questions about coding, add your code(s) in the code cell provided. Look for **FILL HERE** sign\n",
    "7. If the coding question asks you to print something or plot something, always annotate your answer. For example,\n",
    "  * Use **print('number of rows in the data:', data.shape[0])** rather than **print(data.shape[0])**\n",
    "  * Add axis labels, title, and legend to the graph as appropriate"
   ]
  },
  {
   "cell_type": "markdown",
   "id": "b71de12c",
   "metadata": {},
   "source": [
    "## Q1: Import packages that you need here"
   ]
  },
  {
   "cell_type": "code",
   "execution_count": null,
   "id": "4dbea2b9",
   "metadata": {},
   "outputs": [],
   "source": [
    "*FILL HERE*"
   ]
  },
  {
   "cell_type": "markdown",
   "id": "7dbb5fc3",
   "metadata": {},
   "source": [
    "In the code below, data were loaded without specifying *index_col* because none of the columns can serve as unique index for the rows\n",
    "\n",
    "## Q2: If we want to create a unique index for the data in each row, what would be some possible ideas?\n",
    "Ans: "
   ]
  },
  {
   "cell_type": "code",
   "execution_count": null,
   "id": "e071033c",
   "metadata": {},
   "outputs": [],
   "source": [
    "data = pd.read_excel('MDSExome.xlsx')\n",
    "data.head()"
   ]
  },
  {
   "cell_type": "markdown",
   "id": "4034d36b",
   "metadata": {},
   "source": [
    "## Q3: First, let's examine the data\n",
    "1. Print the size of this data (number of rows and columns)\n",
    "2. Print the number of missing data for each columns"
   ]
  },
  {
   "cell_type": "code",
   "execution_count": null,
   "id": "4d63bf21",
   "metadata": {},
   "outputs": [],
   "source": [
    "*FILL HERE*"
   ]
  },
  {
   "cell_type": "markdown",
   "id": "5dd55080",
   "metadata": {},
   "source": [
    "There are several missing values from the *Nucleotide Position*, *Amino Acid Position*, and *Amino Acid Change*. \n",
    "The code below extract these rows into a DataFrame **rows_with_missing**.\n",
    "## Q4: What are the causes for these missing values?\n",
    "Ans:"
   ]
  },
  {
   "cell_type": "code",
   "execution_count": null,
   "id": "76320f8d",
   "metadata": {},
   "outputs": [],
   "source": [
    "rows_with_missing = data.loc[pd.isna(data[['Nucleotide Position', 'Amino Acid Position', 'Amino Acid Change']]).any(axis = 1), :]\n",
    "rows_with_missing.head(10)"
   ]
  },
  {
   "cell_type": "markdown",
   "id": "3fb83b8a",
   "metadata": {},
   "source": [
    "For Population AF (allele frequency in human population, estimated from 1,000 genome project), the missing values are because some mutations identified here are not well-documented in public human mutation database.\n",
    "\n",
    "One possibility is that these mutations are rare. We can test this idea in various ways. For example, we can use VAF (variant allele frequency) identified in these 100 patients as a proxy for how rare the mutations are.\n",
    "## Q5: Visualize the distribution of VAF between rows with Population AF and rows without\n",
    "1. Use seaborn's **violinplot**. We first create a new data column that contain **True/False** to indicate whether *Population AF* is present to aid the plotting\n",
    "2. Use matplotlib's **hist** and overlay the two histograms onto the same plot. Set *density* parameter to show the density, not the count."
   ]
  },
  {
   "cell_type": "code",
   "execution_count": null,
   "id": "b5e6d9b6",
   "metadata": {},
   "outputs": [],
   "source": [
    "data['Has Population AF'] = *FILL HERE*\n",
    "\n",
    "## Violin plot\n",
    "_ = sns.violinplot(data = *FILL HERE*, x = *FILL HERE*, y = *FILL HERE*)\n",
    "plt.show()\n",
    "\n",
    "## Histogram\n",
    "plt.hist(data['VAF'].loc[data['Has Population AF']], *FILL HERE*)\n",
    "*FILL HERE*\n",
    "plt.show()"
   ]
  },
  {
   "cell_type": "markdown",
   "id": "6a7ea464",
   "metadata": {},
   "source": [
    "## Q6: Use an appropriate non-parametric test to determine whether VAF of mutations with Population AF are significantly higher than VAF of mutations without Population AF\n",
    "1. Print the test statistics and p-value\n",
    "2. What is your conclusion from Q5 and Q6 about the hypothesis that mutations without *Population AF* are rare mutations?\n",
    "\n",
    "Ans: "
   ]
  },
  {
   "cell_type": "code",
   "execution_count": null,
   "id": "53da8e12",
   "metadata": {},
   "outputs": [],
   "source": [
    "*FILL HERE*"
   ]
  },
  {
   "cell_type": "markdown",
   "id": "57a3d743",
   "metadata": {},
   "source": [
    "To use t-test, we should first test whether the VAF data are normally distributed.\n",
    "\n",
    "## Q7: Test whether VAF data is normally distributed\n",
    "1. Print the test statistics and p-value from **normaltest**\n",
    "2. Plot a histogram of the VAF values\n",
    "3. What is your conclusion? Does the histogram agrees with the normaltest result?\n",
    "\n",
    "Ans: "
   ]
  },
  {
   "cell_type": "code",
   "execution_count": null,
   "id": "dfe5a982",
   "metadata": {},
   "outputs": [],
   "source": [
    "*FILL HERE*"
   ]
  },
  {
   "cell_type": "markdown",
   "id": "b513c1c3",
   "metadata": {},
   "source": [
    "Next, let's identified frequently mutated genes in these patients because they might be related to MDS\n",
    "\n",
    "## Q8: Show the mutation frequency for each gene in this dataset\n",
    "1. Use **valut_counts**\n",
    "2. What are the top 3 mutated genes?\n",
    "\n",
    "Ans:\n",
    "\n",
    "3. Are they known to be involved in MDS? Provide some literature evidence\n",
    "\n",
    "Ans:"
   ]
  },
  {
   "cell_type": "code",
   "execution_count": null,
   "id": "dbd5fa2b",
   "metadata": {},
   "outputs": [],
   "source": [
    "*FILL HERE*"
   ]
  },
  {
   "cell_type": "markdown",
   "id": "4956e7a7",
   "metadata": {},
   "source": [
    "## Q9 Use pie chart to show the frequency of the following columns\n",
    "1. Predicted Impact\n",
    "2. Variant Type\n",
    "\n",
    "**Hint**: You can use the output from **value_counts** as input for **pie** plot"
   ]
  },
  {
   "cell_type": "code",
   "execution_count": null,
   "id": "8bdc7e43",
   "metadata": {},
   "outputs": [],
   "source": [
    "## First pie chart\n",
    "*FILL HERE*\n",
    "plt.show()\n",
    "\n",
    "## Second pie chart\n",
    "*FILL HERE*\n",
    "plt.show()"
   ]
  },
  {
   "cell_type": "markdown",
   "id": "ed7995e9",
   "metadata": {},
   "source": [
    "Let's explore whether VAF is correlated with Population AF\n",
    "## Q10: Visualize relationship between VAF and Population AF\n",
    "Use seaborn's **lmplot**"
   ]
  },
  {
   "cell_type": "code",
   "execution_count": null,
   "id": "8e562608",
   "metadata": {},
   "outputs": [],
   "source": [
    "*FILL HERE*"
   ]
  },
  {
   "cell_type": "markdown",
   "id": "83267dcc",
   "metadata": {},
   "source": [
    "## Q11: Calculate Pearson's and Spearman's correlation between VAF and Population AF\n",
    "**Note**: Be careful that some functions do not allow missing values"
   ]
  },
  {
   "cell_type": "code",
   "execution_count": null,
   "id": "5b31de84",
   "metadata": {},
   "outputs": [],
   "source": [
    "*FILL HERE*"
   ]
  },
  {
   "cell_type": "markdown",
   "id": "de7f5b0c",
   "metadata": {},
   "source": [
    "We can guess that Variant Type likely contributed to the HIGH, MODERATE, LOW, and MODIFIER predicted impact. But, let's check the data to be sure\n",
    "## Q12: Generate a table summarizing the relationship between Variant Type and Predicted Impact\n",
    "1. Use **crosstab**\n",
    "2. What do you find?\n",
    "\n",
    "Ans: "
   ]
  },
  {
   "cell_type": "code",
   "execution_count": null,
   "id": "7d2bcf24",
   "metadata": {},
   "outputs": [],
   "source": [
    "*FILL HERE*"
   ]
  },
  {
   "cell_type": "markdown",
   "id": "7e5efc8c",
   "metadata": {},
   "source": [
    "Finally, we want to summarize the mutation profile for each patient\n",
    "## Q13: Generate a table summarizing the number of mutation for each patient\n",
    "Below is a code template that can do this in a roundabout way. Fill in the missing parts"
   ]
  },
  {
   "cell_type": "code",
   "execution_count": null,
   "id": "49451f52",
   "metadata": {},
   "outputs": [],
   "source": [
    "all_patients = pd.unique(*FILL HERE*)\n",
    "mutation_count = pd.DataFrame(0, index = all_patients, columns = ['Number of Mutations'])\n",
    "\n",
    "for patient in all_patients:\n",
    "    mutation_count.loc[patient, 'Number of Mutations'] = *FILL HERE*\n",
    "\n",
    "mutation_count = mutation_count.sort_values('Number of Mutations', ascending = False)\n",
    "mutation_count.head()"
   ]
  },
  {
   "cell_type": "markdown",
   "id": "fd1cb3a4",
   "metadata": {},
   "source": [
    "## Q14: Repeat Q13 with a one-line code"
   ]
  },
  {
   "cell_type": "code",
   "execution_count": null,
   "id": "98e2bf80",
   "metadata": {},
   "outputs": [],
   "source": [
    "mutation_count = pd.DataFrame(*FILL HERE*, index = all_patients, columns = ['Number of Mutations'])\n",
    "mutation_count.head()"
   ]
  },
  {
   "cell_type": "markdown",
   "id": "94487a7e",
   "metadata": {},
   "source": [
    "## Q15: Generate a table summarizing the frequency of each Variant Type for each patient\n",
    "Use **crosstab**"
   ]
  },
  {
   "cell_type": "code",
   "execution_count": null,
   "id": "6ec7cca6",
   "metadata": {},
   "outputs": [],
   "source": [
    "*FILL HERE*"
   ]
  },
  {
   "cell_type": "markdown",
   "id": "528edfc1",
   "metadata": {},
   "source": [
    "## Bonus question: \n",
    "Come up with a visualization, a table, or a statistical test that says something interesting about this dataset or MDS."
   ]
  },
  {
   "cell_type": "code",
   "execution_count": null,
   "id": "f2ec7748",
   "metadata": {},
   "outputs": [],
   "source": [
    "*FILL HERE*"
   ]
  }
 ],
 "metadata": {
  "kernelspec": {
   "display_name": "Python 3 (ipykernel)",
   "language": "python",
   "name": "python3"
  },
  "language_info": {
   "codemirror_mode": {
    "name": "ipython",
    "version": 3
   },
   "file_extension": ".py",
   "mimetype": "text/x-python",
   "name": "python",
   "nbconvert_exporter": "python",
   "pygments_lexer": "ipython3",
   "version": "3.8.10"
  }
 },
 "nbformat": 4,
 "nbformat_minor": 5
}
